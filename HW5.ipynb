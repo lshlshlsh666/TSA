{
 "cells": [
  {
   "cell_type": "markdown",
   "metadata": {},
   "source": [
    "# Homework 5"
   ]
  },
  {
   "cell_type": "markdown",
   "metadata": {},
   "source": [
    "# Ⅰ"
   ]
  },
  {
   "cell_type": "markdown",
   "metadata": {},
   "source": [
    "由F统计量的定义知：\n",
    "\n",
    "$$\n",
    "F= \\frac{(SSR_r - SSR_{ur}) / 2}{SSR_{ur} / (30 - 5)}\n",
    "$$"
   ]
  },
  {
   "cell_type": "code",
   "execution_count": 5,
   "metadata": {},
   "outputs": [
    {
     "name": "stdout",
     "output_type": "stream",
     "text": [
      "F =  3.1565749415380986\n",
      "而F(0.05, 2, 25) = 3.39，因此在0.05的显著性水平下，接受原假设。\n"
     ]
    }
   ],
   "source": [
    "# 代入数据\n",
    "SSR_r = 0.85163\n",
    "SSR_ur = 0.67993\n",
    "F = ((SSR_r - SSR_ur) / 2) / (SSR_ur / (30 - 5))\n",
    "print(\"F = \", F)\n",
    "print(\"而F(0.05, 2, 25) = 3.39，因此在0.05的显著性水平下，接受原假设。\")"
   ]
  },
  {
   "cell_type": "markdown",
   "metadata": {},
   "source": [
    "# Ⅱ"
   ]
  },
  {
   "cell_type": "markdown",
   "metadata": {},
   "source": [
    "对于第一个方程：\n",
    "\n",
    "模型变量总数为7，内生变量个数为3，该方程包含的变量数为5，而$7-5 = 3 - 1$，因此该方程为恰好识别的方程。\n",
    "\n",
    "对于第二个方程：\n",
    "\n",
    "模型变量总数为7，内生变量个数为3，该方程包含的变量数为4，而$7-4 > 3 - 1$，因此该方程为过度识别的方程。"
   ]
  },
  {
   "cell_type": "markdown",
   "metadata": {},
   "source": [
    "根据上述分析，我们最好使用二阶段最小二乘法来进行估计（2SLS）。"
   ]
  },
  {
   "cell_type": "markdown",
   "metadata": {},
   "source": [
    "# Ⅲ"
   ]
  },
  {
   "cell_type": "markdown",
   "metadata": {},
   "source": [
    "假设方程为：\n",
    "\n",
    "$$\n",
    "Y_t^{(1)} \\Gamma + X_t^{(1)} B = \\epsilon_t\n",
    "$$\n",
    "其中$Y_t^{(1)}$为内生变量，$X_t^{(1)}$为外生变量。\n",
    "\n",
    "若记$Y_t^{(2)}$为剩余的内生变量，$X_t^{(2)}$为剩余的外生变量。\n",
    "\n",
    "对于 ILS 而言，我们有：\n",
    "\n",
    "$$\n",
    "\\begin{bmatrix}\n",
    "Y_t^{(1)} & Y_t^{(2)} \\\\\n",
    "\\end{bmatrix}\n",
    "=\n",
    "\\begin{bmatrix}\n",
    "X_t^{(1)} & X_t^{(2)} \\\\\n",
    "\\end{bmatrix}\n",
    "\\begin{bmatrix}\n",
    "\\Pi_{11} & \\Pi_{12} \\\\\n",
    "\\Pi_{21} & \\Pi_{22} \\\\\n",
    "\\end{bmatrix}\n",
    "+ \\tilde \\epsilon_t\n",
    "$$\n"
   ]
  },
  {
   "cell_type": "markdown",
   "metadata": {},
   "source": [
    "代入原式可以得到：\n",
    "$$\n",
    "X_t^{(1)} \\Pi_{11} \\Gamma + X_t^{(2)} \\Pi_{21} \\Gamma + X_t^{(1)} B + \\tilde \\epsilon_t = 0\n",
    "$$\n",
    "\n",
    "由于X的外生性：\n",
    "$$\n",
    "\\Pi_{11} \\Gamma +  B = 0\n",
    "$$\n",
    "\n",
    "同时，根据Frisch-Waugh定理，我们知道：\n",
    "$$\n",
    "\\Pi_{11} = ({\\tilde X_t^{(1)}}^T \\tilde X_t^{(1)})^{-1} {\\tilde X_t^{(1)}}^T Y_t^{(1)}\n",
    "$$,\n",
    "\n",
    "其中$\\tilde X_t^{(1)} = P_2 X_t^{(1)}$，$P_2$为$X_t^{(2)}$的正交投影矩阵。\n"
   ]
  },
  {
   "cell_type": "markdown",
   "metadata": {},
   "source": [
    "对于2SLS而言，我们把上式改写成：\n",
    "$$\n",
    "y_0 = Y_t^* \\Gamma^* - X_t^{(1)} B + \\epsilon_t\n",
    "$$\n",
    "其中$[y_0, Y_t^*] = Y_t^{(1)}，[1, -\\Gamma^{*T}]^T = \\Gamma$.\n",
    "\n",
    "根据第一步投影，我们实际估计的方程为：\n",
    "$$\n",
    "y_0 = \\tilde Y_t^* \\Gamma^* - X_t^{(1)} B + \\epsilon_t\n",
    "$$\n",
    "其中$\\tilde Y_t^* = P Y_t^{*}$, $P$为$X_t$的正交投影矩阵。"
   ]
  },
  {
   "cell_type": "markdown",
   "metadata": {},
   "source": [
    "再回到ILS，我们有：\n",
    "$$\n",
    "({\\tilde X_t^{(1)}}^T \\tilde X_t^{(1)})^{-1} {\\tilde X_t^{(1)}}^T [y_0, Y_t^*] [1, -\\Gamma^{*T}]^T +  B = 0\n",
    "$$"
   ]
  },
  {
   "cell_type": "markdown",
   "metadata": {},
   "source": [
    "\n",
    "由于方程是恰好识别，故解存在唯一，我们只需证明2SLS的解也满足上述等式即可。这是很容易验证的：\n",
    "\n",
    "因为由OLS知：\n",
    "$$\n",
    "B = -({\\tilde X_t^{(1)}}^T \\tilde X_t^{(1)})^{-1} {\\tilde X_t^{(1)}}^T (y_0 - Y_t^* \\Gamma^*) \\\\\n",
    "$$\n",
    "\n",
    "代入上述恒成立。故原命题得证。"
   ]
  }
 ],
 "metadata": {
  "kernelspec": {
   "display_name": "pytorch",
   "language": "python",
   "name": "python3"
  },
  "language_info": {
   "codemirror_mode": {
    "name": "ipython",
    "version": 3
   },
   "file_extension": ".py",
   "mimetype": "text/x-python",
   "name": "python",
   "nbconvert_exporter": "python",
   "pygments_lexer": "ipython3",
   "version": "3.8.13"
  }
 },
 "nbformat": 4,
 "nbformat_minor": 2
}

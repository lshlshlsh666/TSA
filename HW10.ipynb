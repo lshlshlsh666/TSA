{
 "cells": [
  {
   "cell_type": "markdown",
   "metadata": {},
   "source": [
    "# 1"
   ]
  },
  {
   "cell_type": "markdown",
   "metadata": {},
   "source": [
    "计算矩阵特征值即可.\n",
    "\n",
    "容易计算矩阵特征值为0.5， 0.8，均小于1。\n",
    "\n",
    "故模型是平稳的。"
   ]
  },
  {
   "cell_type": "markdown",
   "metadata": {},
   "source": [
    "# 2"
   ]
  },
  {
   "cell_type": "markdown",
   "metadata": {},
   "source": [
    "1、\n",
    "\n",
    "\\begin{aligned}\n",
    "(A \\otimes C) ( F \\otimes G) &=\n",
    "\\begin{bmatrix}\n",
    "a_{11} C & \\cdots & a_{1n} C \\\\\n",
    "\\vdots & \\ddots & \\vdots \\\\\n",
    "a_{n1} C & \\cdots & a_{nn} C\n",
    "\\end{bmatrix}\n",
    "\\begin{bmatrix}\n",
    "f_{11} G & \\cdots & f_{1m} G \\\\\n",
    "\\vdots & \\ddots & \\vdots \\\\\n",
    "f_{n1} G & \\cdots & f_{nm} G\n",
    "\\end{bmatrix} \\\\\n",
    "&=\n",
    "\\begin{bmatrix}\n",
    "(af)_{11} C G & \\cdots & (af)_{1n} G \\\\\n",
    "\\vdots & \\ddots & \\vdots \\\\\n",
    "(af)_{n1} C G & \\cdots & (af)_{nn} C G\n",
    "\\end{bmatrix} \\\\\n",
    "&=\n",
    "(A F) \\otimes (C G) \n",
    "\\end{aligned}\n",
    "\n",
    "2.\n",
    "\n",
    "\\begin{aligned}\n",
    "vec(C^T)^T vec(A) &=\n",
    "\\begin{bmatrix}\n",
    "c_{11} & \\cdots & c_{n1} & \\cdots & c_{1n} & \\cdots & c_{nn}\n",
    "\\end{bmatrix}\n",
    "\\begin{bmatrix}\n",
    "a_{11} \\\\\n",
    "\\vdots \\\\\n",
    "a_{n1} \\\\\n",
    "\\vdots \\\\\n",
    "a_{1n} \\\\\n",
    "\\vdots \\\\\n",
    "a_{nn}\n",
    "\\end{bmatrix} \\\\\n",
    "&=\n",
    "\\sum_{i}\\sum_{j} a_{ij}c_{ij} \\\\\n",
    "&=\n",
    "tr(AC) \\\\\n",
    "\\end{aligned}\n",
    "\n",
    "3.\n",
    "\n",
    "\\begin{aligned}\n",
    "vec(AB) &=\n",
    "\\begin{bmatrix}\n",
    "\\sum_i a_{1i} b_{i1} \\\\\n",
    "\\vdots \\\\\n",
    "\\sum_i a_{1i} b_{in} \\\\\n",
    "\\vdots \\\\\n",
    "\\sum_i a_{ni} b_{i1} \\\\\n",
    "\\vdots \\\\\n",
    "\\sum_i a_{ni} b_{in} \\\\\n",
    "\\end{bmatrix} \\\\\n",
    "&= (B^T \\otimes I) vec(A) \\\\\n",
    "&= (I \\otimes A) vec(B) \\\\\n",
    "\\end{aligned}\n",
    "\n",
    "\n",
    "Application:\n",
    "\n",
    "\\begin{aligned}\n",
    "\\hat \\gamma_l &= \n",
    "\\frac{1}{T} vec(\\sum_{t=l+1}^{T} a_t a_{t-l}^T) \\\\\n",
    "&= \\frac{1}{T} \\sum_{t=l+1}^{T} vec(a_t a_{t-l}^T) \\\\\n",
    "&= \\frac{1}{T} \\sum_{t=l+1}^{T} (a_{t-l} \\otimes I_k) a_t \\\\\n",
    "\\end{aligned}"
   ]
  },
  {
   "cell_type": "markdown",
   "metadata": {},
   "source": [
    "# 3"
   ]
  },
  {
   "cell_type": "markdown",
   "metadata": {},
   "source": [
    "将公式3.12取逆即可。"
   ]
  },
  {
   "cell_type": "markdown",
   "metadata": {},
   "source": [
    "# 4"
   ]
  },
  {
   "cell_type": "markdown",
   "metadata": {},
   "source": [
    "$$\n",
    "x_t^T = [1, z_{t-1}^T, z_{t-2}^T, \\cdots, z_{t-p}^T] \\\\\n",
    "\\beta^T = [\\phi_0, \\phi_1, \\phi_2, \\cdots, \\phi_p] \\\\\n",
    "$$\n",
    "\n",
    "$$\n",
    "X = \\begin{bmatrix}\n",
    "x_1^T \\\\\n",
    "x_2^T \\\\\n",
    "\\vdots \\\\\n",
    "x_T^T \\\\\n",
    "\\end{bmatrix}\n",
    "，\n",
    "A = \\begin{bmatrix}\n",
    "a_1^T \\\\\n",
    "a_2^T \\\\\n",
    "\\vdots \\\\\n",
    "a_T^T \\\\\n",
    "\\end{bmatrix} \\\\\n",
    "$$"
   ]
  },
  {
   "cell_type": "markdown",
   "metadata": {},
   "source": [
    "\\begin{aligned}\n",
    "vec(Z^T) &=\n",
    "vec(\\beta^T X^T + A^T) \\\\\n",
    "&= vec(\\beta^T X^T) + vec(A^T) \\\\\n",
    "&= (X \\otimes I) vec(\\beta^T) + vec(A^T) \\\\\n",
    "&= (X \\otimes I) \\begin{bmatrix}\n",
    "\\phi_0 \\\\\n",
    "\\phi_1 \\\\\n",
    "\\vdots \\\\\n",
    "\\phi_p \\\\\n",
    "\\end{bmatrix} + \\begin{bmatrix}\n",
    "a_1 \\\\\n",
    "a_2 \\\\\n",
    "\\vdots \\\\\n",
    "a_T \\\\\n",
    "\\end{bmatrix} \\\\\n",
    "\\end{aligned}"
   ]
  },
  {
   "cell_type": "markdown",
   "metadata": {},
   "source": [
    "\\begin{aligned}\n",
    "S_0{\\beta} &= tr[(Z - X\\beta)(Z - X\\beta)^T] \\\\\n",
    "&= vec(Z - X\\beta)^T vec(Z - X\\beta) \\\\\n",
    "\\end{aligned}"
   ]
  }
 ],
 "metadata": {
  "language_info": {
   "name": "python"
  }
 },
 "nbformat": 4,
 "nbformat_minor": 2
}

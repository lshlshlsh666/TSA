{
 "cells": [
  {
   "cell_type": "markdown",
   "metadata": {},
   "source": [
    "# Homework 2"
   ]
  },
  {
   "cell_type": "markdown",
   "metadata": {},
   "source": [
    "# 1"
   ]
  },
  {
   "cell_type": "markdown",
   "metadata": {},
   "source": [
    "## (1)"
   ]
  },
  {
   "cell_type": "markdown",
   "metadata": {},
   "source": [
    "$$\n",
    "\\begin{aligned}\n",
    "b_1 &= argmin_{\\beta_1} || Y - X_1 \\beta_1||^2 \\\\\n",
    "\\end{aligned}\n",
    "$$\n",
    "考虑其梯度：\n",
    "\n",
    "$$\n",
    "\\begin{aligned}\n",
    "\\frac{\\partial}{\\partial \\beta_1} || Y - X_1 \\beta_1||^2 &= -2 X_1^T (Y - X_1 \\beta_1) \\\\\n",
    "\\end{aligned}\n",
    "$$\n",
    "\n",
    "故当梯度为0时，有：\n",
    "$$\n",
    "\\begin{aligned}\n",
    "b_1 = \\beta_1 &= (X_1^T X_1)^{-1} X_1^T Y \\\\\n",
    "\\end{aligned}\n",
    "$$"
   ]
  },
  {
   "cell_type": "markdown",
   "metadata": {},
   "source": [
    "## (2)"
   ]
  },
  {
   "cell_type": "markdown",
   "metadata": {},
   "source": [
    "$$\n",
    "\\begin{aligned}\n",
    "(c_1, c_2) = argmin_{\\gamma_1, \\gamma_2} || Y - X_1 \\gamma_1 - X_2 \\gamma_2||^2 \\\\\n",
    "\\end{aligned}\n",
    "$$\n",
    "考虑其梯度：\n",
    "\n",
    "$$\n",
    "\\begin{cases}\n",
    "\\frac{\\partial}{\\partial \\gamma_1} || Y - X_1 \\gamma_1 - X_2 \\gamma_2||^2 &= -2 X_1^T (Y - X_1 \\gamma_1 - X_2 \\gamma_2) \\\\\n",
    "\\frac{\\partial}{\\partial \\gamma_2} || Y - X_1 \\gamma_1 - X_2 \\gamma_2||^2 &= -2 X_2^T (Y - X_1 \\gamma_1 - X_2 \\gamma_2) \\\\\n",
    "\\end{cases}\n",
    "$$\n",
    "\n",
    "故当梯度为0时，有：\n",
    "$$\n",
    "\\begin{cases}\n",
    "\\gamma_1 = (X_1^T X_1)^{-1} X_1^T (Y - X_2 \\gamma_2) \\\\\n",
    "\\gamma_2 = (X_2^T X_2)^{-1} X_2^T (Y - X_1 \\gamma_1) = (X_2^T X_2)^{-1} X_2^T (Y - X_1 (X_1^T X_1)^{-1} X_1^T (Y - X_2 \\gamma_2)) \\\\\n",
    "\\end{cases}\n",
    "$$\n",
    "\n",
    "可以解得：\n",
    "$$\n",
    "\\gamma_2 = (X_2^T X_2)^{-1} X_2^T M_1 Y - (X_2^T X_2)^{-1} X_2^T P_1 X_2 \\gamma_2,\n",
    "$$\n",
    "其中：\n",
    "$$\n",
    "\\begin{cases}\n",
    "M_1 = I - X_1 (X_1^T X_1)^{-1} X_1^T \\\\\n",
    "P_1 = X_1 (X_1^T X_1)^{-1} X_1^T \\\\\n",
    "\\end{cases}\n",
    "$$\n",
    "\n",
    "故：\n",
    "$$\n",
    "\\gamma_2 = (X_2^T M_1 X_2)^{-1} X_2^T M_1 Y\n",
    "$$\n",
    "\n",
    "进而可知：\n",
    "$$\n",
    "\\gamma_1 = (X_1^T M_2 X_1)^{-1} X_1^T M_2 Y\n",
    "$$\n",
    "\n",
    "综上：\n",
    "$$\n",
    "\\begin{cases}\n",
    "c_1 = \\gamma_1 = (X_1^T M_2 X_1)^{-1} X_1^T M_2 Y \\\\\n",
    "c_2 = \\gamma_2 = (X_2^T M_1 X_2)^{-1} X_2^T M_1 Y \\\\\n",
    "\\end{cases}\n",
    "$$"
   ]
  },
  {
   "cell_type": "markdown",
   "metadata": {},
   "source": [
    "# 2"
   ]
  },
  {
   "cell_type": "markdown",
   "metadata": {},
   "source": [
    "由1知：\n",
    "\n",
    "$$\n",
    "\\begin{aligned}\n",
    "\\hat \\beta &= (X^T X)^{-1} X^T Y \\\\\n",
    "&= (X^T X)^{-1} X^T (X \\beta + \\epsilon) \\\\\n",
    "&= \\beta + (X^T X)^{-1} X^T \\epsilon \\\\\n",
    "\\end{aligned}\n",
    "$$\n",
    "\n",
    "由于$\\epsilon$的条件期望为0，故$\\hat \\beta$的条件期望为$\\beta$，故$\\hat \\beta$是（条件）无偏估计。"
   ]
  },
  {
   "cell_type": "markdown",
   "metadata": {},
   "source": [
    "下面证明其是BLUE:\n",
    "为方便起见，我们记$\\hat \\beta = (X^T X)^{-1}X^T Y = A Y$，其中$A = (X^T X)^{-1} X^T$。\n",
    "\n",
    "如果有另一个线性无偏估计$\\tilde \\beta := B Y$，其中$B$是一个线性映射，且$E(\\tilde \\beta | X) = \\beta$。\n",
    "\n",
    "注意到：\n",
    "$$\n",
    "\\mathbb E (A Y | X) = \\mathbb E (B Y | X) = \\beta\n",
    "$$\n",
    "\n",
    "即：\n",
    "$$\n",
    "AX\\beta = BX\\beta, \\forall \\beta \\\\\n",
    "$$\n",
    "\n",
    "故：\n",
    "$$\n",
    "(B - A)X = 0 \\\\\n",
    "(B - A)A^T = 0\n",
    "$$\n",
    "\n",
    "进一步注意到：\n",
    "\n",
    "故：\n",
    "$$\n",
    "\\begin{aligned}\n",
    "Var(\\tilde \\beta | X) &= Var(BY | X) \\\\\n",
    "&= Var((B-A)Y + AY | X) \\\\\n",
    "&= Var((B-A)\\epsilon | X) + Var(A \\epsilon | X) + 2 Cov((B-A)\\epsilon, A \\epsilon | X) \\\\\n",
    "&= Var((B-A)\\epsilon | X) + Var(A \\epsilon | X) + 2 \\sigma^2 (B-A)A^T \\\\\n",
    "&= Var((B-A)\\epsilon | X) + Var(A \\epsilon | X) \\\\\n",
    "&\\ge Var(A \\epsilon | X) \\\\\n",
    "&= Var(\\hat \\beta | X) \\\\\n",
    "\\end{aligned}\n",
    "$$\n",
    "\n",
    "故$\\hat \\beta$是BLUE。"
   ]
  },
  {
   "cell_type": "markdown",
   "metadata": {},
   "source": [
    "# 3"
   ]
  },
  {
   "cell_type": "code",
   "execution_count": 58,
   "metadata": {},
   "outputs": [],
   "source": [
    "import numpy as np\n",
    "import matplotlib.pyplot as plt\n",
    "from sklearn.linear_model import LinearRegression\n",
    "\n",
    "t = np.arange(1, 51)\n",
    "X1 = np.array([np.ones_like(t), t]).copy().T\n",
    "X2 = np.array([t**2]).copy().T\n",
    "\n",
    "def func(a, b, c, mu, sigma):\n",
    "    return lambda x: a + b * x + c * x**2 + np.random.normal(mu, sigma, x.size)\n",
    "\n",
    "f = func(10, 1, 2, 0, 0.01)\n",
    "Y = f(t)"
   ]
  },
  {
   "cell_type": "code",
   "execution_count": 70,
   "metadata": {},
   "outputs": [],
   "source": [
    "X1_tilde = X1.copy()\n",
    "X1_tilde_1 = X1[:, 0] / np.sqrt(X1[:, 0] @ X1[:, 0])\n",
    "u_2 = X1[:, 1] - X1_tilde_1 @ X1[:, 1] * X1_tilde_1\n",
    "X1_tilde_2 = u_2 / np.sqrt(u_2 @ u_2)\n",
    "X1_tilde = np.concatenate([X1_tilde_1.reshape(-1, 1), X1_tilde_2.reshape(-1, 1)], axis=1)\n",
    "\n",
    "X2_tilde = (X2[:, 0] - X2[:, 0] @ X1_tilde[:, 0] * X1_tilde[:, 0] - X2[:, 0] @ X1_tilde[:, 1] * X1_tilde[:, 1])[:, np.newaxis]"
   ]
  },
  {
   "cell_type": "code",
   "execution_count": 71,
   "metadata": {},
   "outputs": [
    {
     "name": "stdout",
     "output_type": "stream",
     "text": [
      "b1 =  10510.299565774136\n"
     ]
    }
   ],
   "source": [
    "model_1 = LinearRegression(fit_intercept=False)\n",
    "model_1.fit(X1_tilde, Y)\n",
    "\n",
    "print('b1 = ', model_1.coef_[1])"
   ]
  },
  {
   "cell_type": "code",
   "execution_count": 72,
   "metadata": {},
   "outputs": [
    {
     "name": "stdout",
     "output_type": "stream",
     "text": [
      "gamma_1 =  10510.29956577413\n"
     ]
    }
   ],
   "source": [
    "model_2 = LinearRegression(fit_intercept=False)\n",
    "model_2.fit(np.concatenate([X1_tilde, X2_tilde], axis=1), Y)\n",
    "\n",
    "print('gamma_1 = ', model_2.coef_[1])"
   ]
  }
 ],
 "metadata": {
  "kernelspec": {
   "display_name": "ricequant",
   "language": "python",
   "name": "python3"
  },
  "language_info": {
   "codemirror_mode": {
    "name": "ipython",
    "version": 3
   },
   "file_extension": ".py",
   "mimetype": "text/x-python",
   "name": "python",
   "nbconvert_exporter": "python",
   "pygments_lexer": "ipython3",
   "version": "3.11.4"
  },
  "orig_nbformat": 4
 },
 "nbformat": 4,
 "nbformat_minor": 2
}

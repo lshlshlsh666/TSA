{
 "cells": [
  {
   "cell_type": "markdown",
   "metadata": {},
   "source": [
    "# Homework 9"
   ]
  },
  {
   "cell_type": "markdown",
   "metadata": {},
   "source": [
    "# I 推导ARCH(1)参数"
   ]
  },
  {
   "cell_type": "markdown",
   "metadata": {},
   "source": [
    "\\begin{aligned}\n",
    "a_t &= \\sigma_t \\epsilon_t \\\\\n",
    "\\sigma_t^2 &= \\alpha_0 + \\alpha_1 a_{t-1}^2 \\\\ \n",
    "\\end{aligned}\n",
    "\n",
    "显然$\\alpha_0 > 0$."
   ]
  },
  {
   "cell_type": "markdown",
   "metadata": {},
   "source": [
    "注意到(在弱平稳假设下)：\n",
    "\\begin{aligned}\n",
    "Var(a_t) &= E(a_t^2) \\\\\n",
    "&= E(\\sigma_t^2 E(\\epsilon_t^2|\\mathcal F_{t-1})) \\\\\n",
    "&= E(\\sigma_t^2) \\\\\n",
    "&= \\alpha_0 + \\alpha_1 E(a_{t-1}^2) \\\\\n",
    "&= \\alpha_0 + \\alpha_1 Var(a_{t-1}) \\\\\n",
    "\\end{aligned}\n",
    "\n",
    "即：$Var(a_t) = \\frac{\\alpha_0}{1-\\alpha_1}$，由此推出$0 < \\alpha_1 < 1$。\n"
   ]
  },
  {
   "cell_type": "markdown",
   "metadata": {},
   "source": [
    "如果我们需要$a_t$具有四阶矩，且假设其严平稳：\n",
    "\n",
    "\\begin{aligned}\n",
    "E(a_t^4) &= E[E(a_t^4 | \\mathcal F_{t-1})] \\\\\n",
    "&= E[E(\\sigma_t^4 \\epsilon_t^4 | \\mathcal F_{t-1})] \\\\\n",
    "&= 3 E(\\sigma_t^4) \\\\\n",
    "&= 3 E(\\alpha_0 + \\alpha_1 a_{t-1}^2)^2 \\\\\n",
    "&= 3 E(\\alpha_0^2 + 2 \\alpha_0 \\alpha_1 a_{t-1}^2 + \\alpha_1^2 a_{t-1}^4) \\\\\n",
    "&= 3 (\\alpha_0^2 + 2 \\alpha_0 \\alpha_1 E(a_{t-1}^2) + \\alpha_1^2 E(a_{t-1}^4)) \\\\\n",
    "\\end{aligned}\n",
    "\n",
    "由此推出：\n",
    "\n",
    "$$\n",
    "(1 - 3\\alpha_1^2) Ea_t^4 = 3(\\alpha_0 + 2\\alpha_0\\alpha_1 \\frac{\\alpha_0}{1 - \\alpha_1})\n",
    "$$\n",
    "\n",
    "由正负性易知$0 < \\alpha_1 < \\frac{1}{\\sqrt{3}}$。"
   ]
  },
  {
   "cell_type": "markdown",
   "metadata": {},
   "source": [
    "# II ARCH建模"
   ]
  },
  {
   "cell_type": "code",
   "execution_count": 145,
   "metadata": {},
   "outputs": [],
   "source": [
    "import numpy as np\n",
    "import pandas as pd\n",
    "\n",
    "data = pd.read_excel('600519.SH.xlsx').set_index('日期').dropna()\n",
    "returns = np.log(data['收盘价(元)'].pct_change()+1)['20230801':'20231001']"
   ]
  },
  {
   "cell_type": "code",
   "execution_count": 146,
   "metadata": {},
   "outputs": [
    {
     "name": "stdout",
     "output_type": "stream",
     "text": [
      "Mean:  -0.0010371966322837095\n",
      "Standard Deviation:  0.010545668007833835\n",
      "Skewness:  0.6962263715560497\n",
      "Kurtosis:  1.5121456039728653\n"
     ]
    }
   ],
   "source": [
    "print(\"Mean: \", returns.mean().item())\n",
    "print(\"Standard Deviation: \", returns.std().item())\n",
    "print(\"Skewness: \", returns.skew().item())\n",
    "print(\"Kurtosis: \", returns.kurtosis().item())"
   ]
  },
  {
   "cell_type": "code",
   "execution_count": 147,
   "metadata": {},
   "outputs": [
    {
     "name": "stdout",
     "output_type": "stream",
     "text": [
      "ADF Statistic:  -7.084042444124269\n",
      "p-value:  4.587347221267072e-10\n",
      "Critical Values:  {'1%': -3.596635636000432, '5%': -2.933297331821618, '10%': -2.6049909750566895}\n",
      "由此知道该时间序列不存在单位根\n"
     ]
    }
   ],
   "source": [
    "# DF-Test（调包）\n",
    "from statsmodels.tsa.stattools import adfuller\n",
    "result = adfuller(returns.values)\n",
    "print(\"ADF Statistic: \", result[0])\n",
    "print(\"p-value: \", result[1])\n",
    "print(\"Critical Values: \", result[4])\n",
    "\n",
    "# DF-Test（手动）\n",
    "from scipy.stats import t\n",
    "y = returns.values[1:].copy()\n",
    "x = returns.values[:-1].copy()\n",
    "phi = np.sum(x*y) / np.sum(x**2)\n",
    "sigma_2 = np.sum((y-phi*x)**2) / (len(y)-1)\n",
    "df = (phi - 1) / np.sqrt(sigma_2 / np.sum(x**2))\n",
    "\n",
    "print(\"由此知道该时间序列不存在单位根\")\n"
   ]
  },
  {
   "cell_type": "code",
   "execution_count": 148,
   "metadata": {},
   "outputs": [],
   "source": [
    "# 均值模型\n",
    "residual = returns - returns.mean()"
   ]
  },
  {
   "cell_type": "code",
   "execution_count": 149,
   "metadata": {},
   "outputs": [
    {
     "name": "stdout",
     "output_type": "stream",
     "text": [
      "Q* Ljung-Box检验的统计量为： 1.224412299021933\n",
      "Q* Ljung-Box检验的p值为： 11.070497693516351\n",
      "由于统计量小于p值，所以不能拒绝原假设，即残差是白噪声\n"
     ]
    }
   ],
   "source": [
    "# Q* Ljung-Box检验\n",
    "def _gamma(X, n):\n",
    "    x_1 = X; x_2 =  np.append([0] * n, X[:len(X)-n])\n",
    "    mu = np.mean(X)\n",
    "    return np.mean((x_1 - mu) * (x_2 - mu)) / np.var(X)\n",
    "\n",
    "def QLB_test(residual, lag=5):\n",
    "    from scipy.stats import chi2\n",
    "    n = len(residual)\n",
    "    gamma_noise = np.array([])\n",
    "    for k in range(1, lag+1):\n",
    "        gamma_noise = np.append(gamma_noise, _gamma(residual, k))\n",
    "\n",
    "    alpha = 0.05\n",
    "    p = chi2.ppf(1-alpha, lag)\n",
    "    coef = np.array([1/(n-k) for k in range(1, lag+1)])\n",
    "    QLB = n * (n + 2) * np.sum(coef * gamma_noise**2)\n",
    "\n",
    "    print(\"Q* Ljung-Box检验的统计量为：\", QLB)\n",
    "    print(\"Q* Ljung-Box检验的p值为：\", p)\n",
    "    if QLB > p:\n",
    "        print(\"由于统计量大于p值，所以拒绝原假设，即残差不是白噪声\")\n",
    "    else:\n",
    "        print(\"由于统计量小于p值，所以不能拒绝原假设，即残差是白噪声\")\n",
    "QLB_test(residual)"
   ]
  },
  {
   "cell_type": "code",
   "execution_count": 150,
   "metadata": {},
   "outputs": [
    {
     "name": "stdout",
     "output_type": "stream",
     "text": [
      "Q* Ljung-Box检验的统计量为： 7.998332585190402\n",
      "Q* Ljung-Box检验的p值为： 11.070497693516351\n",
      "由于统计量小于p值，所以不能拒绝原假设，即残差是白噪声\n"
     ]
    }
   ],
   "source": [
    "# 平方序列\n",
    "QLB_test(residual**2)"
   ]
  },
  {
   "cell_type": "code",
   "execution_count": 151,
   "metadata": {},
   "outputs": [
    {
     "name": "stdout",
     "output_type": "stream",
     "text": [
      "Q* Ljung-Box检验的统计量为： 13.032715380760663\n",
      "Q* Ljung-Box检验的p值为： 11.070497693516351\n",
      "由于统计量大于p值，所以拒绝原假设，即残差不是白噪声\n"
     ]
    }
   ],
   "source": [
    "# 绝对值序列\n",
    "QLB_test(np.abs(residual))"
   ]
  },
  {
   "cell_type": "code",
   "execution_count": 152,
   "metadata": {},
   "outputs": [
    {
     "data": {
      "image/png": "[encoded data removed]",
      "text/plain": [
       "<Figure size 1200x400 with 2 Axes>"
      ]
     },
     "metadata": {},
     "output_type": "display_data"
    }
   ],
   "source": [
    "# 考虑ARCH模型\n",
    "ts = np.abs(returns)\n",
    "def acf_test(residual, lag=10):\n",
    "    from statsmodels.graphics.tsaplots import plot_acf, plot_pacf\n",
    "    _, ax = plt.subplots(1, 2, figsize=(12, 4))\n",
    "    plot_acf(residual, lags=lag, ax=ax[0])\n",
    "    plot_pacf(residual, lags=lag, ax=ax[1])\n",
    "    plt.show()\n",
    "acf_test(ts, lag=5)\n",
    "\n"
   ]
  },
  {
   "cell_type": "code",
   "execution_count": 153,
   "metadata": {},
   "outputs": [
    {
     "name": "stdout",
     "output_type": "stream",
     "text": [
      "Iteration:      1,   Func. Count:      5,   Neg. LLF: 94.54731730702404\n",
      "Iteration:      2,   Func. Count:     13,   Neg. LLF: 85.1541024610543\n",
      "Iteration:      3,   Func. Count:     18,   Neg. LLF: 61.457569784819114\n",
      "Iteration:      4,   Func. Count:     22,   Neg. LLF: 61.30296913098192\n",
      "Iteration:      5,   Func. Count:     26,   Neg. LLF: 61.28385697317308\n",
      "Iteration:      6,   Func. Count:     30,   Neg. LLF: 61.281582985501856\n",
      "Iteration:      7,   Func. Count:     34,   Neg. LLF: 61.28136871727933\n",
      "Iteration:      8,   Func. Count:     38,   Neg. LLF: 61.281049447406886\n",
      "Iteration:      9,   Func. Count:     42,   Neg. LLF: 61.281045583204296\n",
      "Iteration:     10,   Func. Count:     45,   Neg. LLF: 61.28104583347963\n",
      "Optimization terminated successfully    (Exit mode 0)\n",
      "            Current function value: 61.281045583204296\n",
      "            Iterations: 10\n",
      "            Function evaluations: 45\n",
      "            Gradient evaluations: 10\n",
      "                        Zero Mean - ARCH Model Results                        \n",
      "==============================================================================\n",
      "Dep. Variable:                 收盘价(元)   R-squared:                       0.000\n",
      "Mean Model:                 Zero Mean   Adj. R-squared:                  0.023\n",
      "Vol Model:                       ARCH   Log-Likelihood:               -61.2810\n",
      "Distribution:                  Normal   AIC:                           128.562\n",
      "Method:            Maximum Likelihood   BIC:                           133.846\n",
      "                                        No. Observations:                   43\n",
      "Date:                Mon, Nov 13 2023   Df Residuals:                       43\n",
      "Time:                        23:16:07   Df Model:                            0\n",
      "                            Volatility Model                            \n",
      "========================================================================\n",
      "                 coef    std err          t      P>|t|  95.0% Conf. Int.\n",
      "------------------------------------------------------------------------\n",
      "omega          0.6840      0.240      2.849  4.385e-03 [  0.213,  1.155]\n",
      "alpha[1]       0.4693      0.447      1.049      0.294 [ -0.408,  1.346]\n",
      "alpha[2]   1.4378e-12      0.112  1.280e-11      1.000 [ -0.220,  0.220]\n",
      "========================================================================\n",
      "\n",
      "Covariance estimator: robust\n"
     ]
    }
   ],
   "source": [
    "# 故考虑用ARCH(2)模型\n",
    "from arch import arch_model\n",
    "model = arch_model(residual*100, mean='zero', p=2, q=0)\n",
    "model_fit = model.fit()\n",
    "print(model_fit.summary())"
   ]
  },
  {
   "cell_type": "markdown",
   "metadata": {},
   "source": [
    "可发现结果中$\\alpha_1, \\alpha_2$并不显著，故无法使用ARCH模型。"
   ]
  }
 ],
 "metadata": {
  "kernelspec": {
   "display_name": "tsa",
   "language": "python",
   "name": "python3"
  },
  "language_info": {
   "codemirror_mode": {
    "name": "ipython",
    "version": 3
   },
   "file_extension": ".py",
   "mimetype": "text/x-python",
   "name": "python",
   "nbconvert_exporter": "python",
   "pygments_lexer": "ipython3",
   "version": "3.8.18"
  },
  "orig_nbformat": 4
 },
 "nbformat": 4,
 "nbformat_minor": 2
}
